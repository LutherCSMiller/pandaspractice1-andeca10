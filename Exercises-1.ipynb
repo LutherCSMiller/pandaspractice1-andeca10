{
 "cells": [
  {
   "cell_type": "code",
   "execution_count": 11,
   "metadata": {
    "collapsed": false
   },
   "outputs": [],
   "source": [
    "%matplotlib inline\n",
    "import pandas as pd"
   ]
  },
  {
   "cell_type": "code",
   "execution_count": 12,
   "metadata": {
    "collapsed": false
   },
   "outputs": [
    {
     "data": {
      "text/html": [
       "<style>body {\n",
       "    margin: 0;\n",
       "    font-family: Helvetica;\n",
       "}\n",
       "table.dataframe {\n",
       "    border-collapse: collapse;\n",
       "    border: none;\n",
       "}\n",
       "table.dataframe tr {\n",
       "    border: none;\n",
       "}\n",
       "table.dataframe td, table.dataframe th {\n",
       "    margin: 0;\n",
       "    border: 1px solid white;\n",
       "    padding-left: 0.25em;\n",
       "    padding-right: 0.25em;\n",
       "}\n",
       "table.dataframe th:not(:empty) {\n",
       "    background-color: #fec;\n",
       "    text-align: left;\n",
       "    font-weight: normal;\n",
       "}\n",
       "table.dataframe tr:nth-child(2) th:empty {\n",
       "    border-left: none;\n",
       "    border-right: 1px dashed #888;\n",
       "}\n",
       "table.dataframe td {\n",
       "    border: 2px solid #ccf;\n",
       "    background-color: #f4f4ff;\n",
       "}\n",
       "h3 {\n",
       "    color: white;\n",
       "    background-color: black;\n",
       "    padding: 0.5em;\n",
       "}\n",
       "</style>"
      ],
      "text/plain": [
       "<IPython.core.display.HTML object>"
      ]
     },
     "execution_count": 12,
     "metadata": {},
     "output_type": "execute_result"
    }
   ],
   "source": [
    "from IPython.core.display import HTML\n",
    "css = open('style-table.css').read() + open('style-notebook.css').read()\n",
    "HTML('<style>{}</style>'.format(css))"
   ]
  },
  {
   "cell_type": "code",
   "execution_count": 13,
   "metadata": {
    "collapsed": false
   },
   "outputs": [
    {
     "data": {
      "text/html": [
       "<div>\n",
       "<table border=\"1\" class=\"dataframe\">\n",
       "  <thead>\n",
       "    <tr style=\"text-align: right;\">\n",
       "      <th></th>\n",
       "      <th>title</th>\n",
       "      <th>year</th>\n",
       "    </tr>\n",
       "  </thead>\n",
       "  <tbody>\n",
       "    <tr>\n",
       "      <th>0</th>\n",
       "      <td>8</td>\n",
       "      <td>2007</td>\n",
       "    </tr>\n",
       "    <tr>\n",
       "      <th>1</th>\n",
       "      <td>Romans</td>\n",
       "      <td>2016</td>\n",
       "    </tr>\n",
       "    <tr>\n",
       "      <th>2</th>\n",
       "      <td>Ultra-Toxic</td>\n",
       "      <td>2005</td>\n",
       "    </tr>\n",
       "    <tr>\n",
       "      <th>3</th>\n",
       "      <td>The Candy Man</td>\n",
       "      <td>1969</td>\n",
       "    </tr>\n",
       "    <tr>\n",
       "      <th>4</th>\n",
       "      <td>Friends &amp; Lovers: The Ski Trip 2</td>\n",
       "      <td>2008</td>\n",
       "    </tr>\n",
       "  </tbody>\n",
       "</table>\n",
       "</div>"
      ],
      "text/plain": [
       "                              title  year\n",
       "0                                 8  2007\n",
       "1                            Romans  2016\n",
       "2                       Ultra-Toxic  2005\n",
       "3                     The Candy Man  1969\n",
       "4  Friends & Lovers: The Ski Trip 2  2008"
      ]
     },
     "execution_count": 13,
     "metadata": {},
     "output_type": "execute_result"
    }
   ],
   "source": [
    "titles = pd.DataFrame.from_csv('data/titles.csv', index_col=None)\n",
    "titles.head()"
   ]
  },
  {
   "cell_type": "code",
   "execution_count": 14,
   "metadata": {
    "collapsed": false
   },
   "outputs": [
    {
     "data": {
      "text/html": [
       "<div>\n",
       "<table border=\"1\" class=\"dataframe\">\n",
       "  <thead>\n",
       "    <tr style=\"text-align: right;\">\n",
       "      <th></th>\n",
       "      <th>title</th>\n",
       "      <th>year</th>\n",
       "      <th>name</th>\n",
       "      <th>type</th>\n",
       "      <th>character</th>\n",
       "      <th>n</th>\n",
       "    </tr>\n",
       "  </thead>\n",
       "  <tbody>\n",
       "    <tr>\n",
       "      <th>0</th>\n",
       "      <td>Suuri illusioni</td>\n",
       "      <td>1985</td>\n",
       "      <td>Homo $</td>\n",
       "      <td>actor</td>\n",
       "      <td>Guests</td>\n",
       "      <td>22.0</td>\n",
       "    </tr>\n",
       "    <tr>\n",
       "      <th>1</th>\n",
       "      <td>Battle of the Sexes</td>\n",
       "      <td>2017</td>\n",
       "      <td>$hutter</td>\n",
       "      <td>actor</td>\n",
       "      <td>Bobby Riggs Fan</td>\n",
       "      <td>10.0</td>\n",
       "    </tr>\n",
       "    <tr>\n",
       "      <th>2</th>\n",
       "      <td>Secret in Their Eyes</td>\n",
       "      <td>2015</td>\n",
       "      <td>$hutter</td>\n",
       "      <td>actor</td>\n",
       "      <td>2002 Dodger Fan</td>\n",
       "      <td>NaN</td>\n",
       "    </tr>\n",
       "    <tr>\n",
       "      <th>3</th>\n",
       "      <td>Steve Jobs</td>\n",
       "      <td>2015</td>\n",
       "      <td>$hutter</td>\n",
       "      <td>actor</td>\n",
       "      <td>1988 Opera House Patron</td>\n",
       "      <td>NaN</td>\n",
       "    </tr>\n",
       "    <tr>\n",
       "      <th>4</th>\n",
       "      <td>Straight Outta Compton</td>\n",
       "      <td>2015</td>\n",
       "      <td>$hutter</td>\n",
       "      <td>actor</td>\n",
       "      <td>Club Patron</td>\n",
       "      <td>NaN</td>\n",
       "    </tr>\n",
       "  </tbody>\n",
       "</table>\n",
       "</div>"
      ],
      "text/plain": [
       "                    title  year     name   type                character     n\n",
       "0         Suuri illusioni  1985   Homo $  actor                   Guests  22.0\n",
       "1     Battle of the Sexes  2017  $hutter  actor          Bobby Riggs Fan  10.0\n",
       "2    Secret in Their Eyes  2015  $hutter  actor          2002 Dodger Fan   NaN\n",
       "3              Steve Jobs  2015  $hutter  actor  1988 Opera House Patron   NaN\n",
       "4  Straight Outta Compton  2015  $hutter  actor              Club Patron   NaN"
      ]
     },
     "execution_count": 14,
     "metadata": {},
     "output_type": "execute_result"
    }
   ],
   "source": [
    "cast = pd.DataFrame.from_csv('data/cast.csv', index_col=None)\n",
    "cast.head()"
   ]
  },
  {
   "cell_type": "markdown",
   "metadata": {
    "collapsed": true
   },
   "source": [
    "### How many movies are listed in the titles dataframe?"
   ]
  },
  {
   "cell_type": "code",
   "execution_count": 15,
   "metadata": {
    "collapsed": false
   },
   "outputs": [
    {
     "data": {
      "text/plain": [
       "229882"
      ]
     },
     "execution_count": 15,
     "metadata": {},
     "output_type": "execute_result"
    }
   ],
   "source": [
    "len(titles['title']) #229882"
   ]
  },
  {
   "cell_type": "code",
   "execution_count": 24,
   "metadata": {
    "collapsed": false
   },
   "outputs": [
    {
     "name": "stdout",
     "output_type": "stream",
     "text": [
      "210214\n"
     ]
    }
   ],
   "source": [
    "wo_dups =[]\n",
    "for the_title in titles['title']:\n",
    "    if the_title not in wo_dups:\n",
    "        wo_dups.append(the_title)\n",
    "print(len(wo_dups))      "
   ]
  },
  {
   "cell_type": "markdown",
   "metadata": {
    "collapsed": true
   },
   "source": [
    "### What are the earliest two films listed in the titles dataframe?"
   ]
  },
  {
   "cell_type": "code",
   "execution_count": null,
   "metadata": {
    "collapsed": false
   },
   "outputs": [],
   "source": []
  },
  {
   "cell_type": "code",
   "execution_count": 25,
   "metadata": {
    "collapsed": false
   },
   "outputs": [
    {
     "data": {
      "text/plain": [
       "120739            Miss Jerry\n",
       "219516    The Startled Lover\n",
       "Name: title, dtype: object"
      ]
     },
     "execution_count": 25,
     "metadata": {},
     "output_type": "execute_result"
    }
   ],
   "source": [
    "titles.sort_values('year')[0:2]['title'] #Ms. Jerry and The Startled Lover"
   ]
  },
  {
   "cell_type": "markdown",
   "metadata": {
    "collapsed": true
   },
   "source": [
    "### How many movies have the title \"Hamlet\"?"
   ]
  },
  {
   "cell_type": "code",
   "execution_count": 18,
   "metadata": {
    "collapsed": false
   },
   "outputs": [
    {
     "data": {
      "text/plain": [
       "19"
      ]
     },
     "execution_count": 18,
     "metadata": {},
     "output_type": "execute_result"
    }
   ],
   "source": [
    "len(titles[titles.title == 'Hamlet']) #19"
   ]
  },
  {
   "cell_type": "code",
   "execution_count": null,
   "metadata": {
    "collapsed": true
   },
   "outputs": [],
   "source": []
  },
  {
   "cell_type": "markdown",
   "metadata": {
    "collapsed": true
   },
   "source": [
    "### How many movies are titled \"North by Northwest\"?"
   ]
  },
  {
   "cell_type": "code",
   "execution_count": 19,
   "metadata": {
    "collapsed": false
   },
   "outputs": [
    {
     "data": {
      "text/plain": [
       "1"
      ]
     },
     "execution_count": 19,
     "metadata": {},
     "output_type": "execute_result"
    }
   ],
   "source": [
    "len(titles[titles.title == 'North by Northwest']) #1"
   ]
  },
  {
   "cell_type": "code",
   "execution_count": null,
   "metadata": {
    "collapsed": true
   },
   "outputs": [],
   "source": []
  },
  {
   "cell_type": "markdown",
   "metadata": {
    "collapsed": true
   },
   "source": [
    "### When was the first movie titled \"Hamlet\" made?"
   ]
  },
  {
   "cell_type": "code",
   "execution_count": 162,
   "metadata": {
    "collapsed": false
   },
   "outputs": [
    {
     "data": {
      "text/plain": [
       "78380    1910\n",
       "Name: year, dtype: int64"
      ]
     },
     "execution_count": 162,
     "metadata": {},
     "output_type": "execute_result"
    }
   ],
   "source": [
    "titles[titles.title == 'Hamlet'].sort_values('year')[0:1]['year'] #1910"
   ]
  },
  {
   "cell_type": "code",
   "execution_count": null,
   "metadata": {
    "collapsed": true
   },
   "outputs": [],
   "source": []
  },
  {
   "cell_type": "markdown",
   "metadata": {
    "collapsed": true
   },
   "source": [
    "### List all of the \"Treasure Island\" movies from earliest to most recent."
   ]
  },
  {
   "cell_type": "code",
   "execution_count": 45,
   "metadata": {
    "collapsed": false
   },
   "outputs": [
    {
     "data": {
      "text/html": [
       "<div>\n",
       "<table border=\"1\" class=\"dataframe\">\n",
       "  <thead>\n",
       "    <tr style=\"text-align: right;\">\n",
       "      <th></th>\n",
       "      <th>title</th>\n",
       "      <th>year</th>\n",
       "    </tr>\n",
       "  </thead>\n",
       "  <tbody>\n",
       "    <tr>\n",
       "      <th>180978</th>\n",
       "      <td>Treasure Island</td>\n",
       "      <td>1918</td>\n",
       "    </tr>\n",
       "    <tr>\n",
       "      <th>205617</th>\n",
       "      <td>Treasure Island</td>\n",
       "      <td>1920</td>\n",
       "    </tr>\n",
       "    <tr>\n",
       "      <th>209569</th>\n",
       "      <td>Treasure Island</td>\n",
       "      <td>1934</td>\n",
       "    </tr>\n",
       "    <tr>\n",
       "      <th>136811</th>\n",
       "      <td>Treasure Island</td>\n",
       "      <td>1950</td>\n",
       "    </tr>\n",
       "    <tr>\n",
       "      <th>43994</th>\n",
       "      <td>Treasure Island</td>\n",
       "      <td>1972</td>\n",
       "    </tr>\n",
       "    <tr>\n",
       "      <th>45301</th>\n",
       "      <td>Treasure Island</td>\n",
       "      <td>1973</td>\n",
       "    </tr>\n",
       "    <tr>\n",
       "      <th>122800</th>\n",
       "      <td>Treasure Island</td>\n",
       "      <td>1985</td>\n",
       "    </tr>\n",
       "    <tr>\n",
       "      <th>64621</th>\n",
       "      <td>Treasure Island</td>\n",
       "      <td>1999</td>\n",
       "    </tr>\n",
       "  </tbody>\n",
       "</table>\n",
       "</div>"
      ],
      "text/plain": [
       "                  title  year\n",
       "180978  Treasure Island  1918\n",
       "205617  Treasure Island  1920\n",
       "209569  Treasure Island  1934\n",
       "136811  Treasure Island  1950\n",
       "43994   Treasure Island  1972\n",
       "45301   Treasure Island  1973\n",
       "122800  Treasure Island  1985\n",
       "64621   Treasure Island  1999"
      ]
     },
     "execution_count": 45,
     "metadata": {},
     "output_type": "execute_result"
    }
   ],
   "source": [
    "titles[titles.title =='Treasure Island'].sort_values('year')"
   ]
  },
  {
   "cell_type": "code",
   "execution_count": null,
   "metadata": {
    "collapsed": true
   },
   "outputs": [],
   "source": []
  },
  {
   "cell_type": "markdown",
   "metadata": {
    "collapsed": true
   },
   "source": [
    "### How many movies were made in the year 1950?"
   ]
  },
  {
   "cell_type": "code",
   "execution_count": 48,
   "metadata": {
    "collapsed": false
   },
   "outputs": [
    {
     "data": {
      "text/plain": [
       "1081"
      ]
     },
     "execution_count": 48,
     "metadata": {},
     "output_type": "execute_result"
    }
   ],
   "source": [
    "len(titles[titles.year == 1950]) #1081"
   ]
  },
  {
   "cell_type": "code",
   "execution_count": null,
   "metadata": {
    "collapsed": true
   },
   "outputs": [],
   "source": []
  },
  {
   "cell_type": "markdown",
   "metadata": {
    "collapsed": true
   },
   "source": [
    "### How many movies were made in the year 1960?"
   ]
  },
  {
   "cell_type": "code",
   "execution_count": 49,
   "metadata": {
    "collapsed": false
   },
   "outputs": [
    {
     "data": {
      "text/plain": [
       "1488"
      ]
     },
     "execution_count": 49,
     "metadata": {},
     "output_type": "execute_result"
    }
   ],
   "source": [
    "len(titles[titles.year == 1960]) #1488"
   ]
  },
  {
   "cell_type": "code",
   "execution_count": null,
   "metadata": {
    "collapsed": true
   },
   "outputs": [],
   "source": []
  },
  {
   "cell_type": "markdown",
   "metadata": {
    "collapsed": true
   },
   "source": [
    "### How many movies were made from 1950 through 1959?"
   ]
  },
  {
   "cell_type": "code",
   "execution_count": 83,
   "metadata": {
    "collapsed": false
   },
   "outputs": [
    {
     "data": {
      "text/plain": [
       "12602"
      ]
     },
     "execution_count": 83,
     "metadata": {},
     "output_type": "execute_result"
    }
   ],
   "source": [
    "len(titles[(titles.year >= 1950) & (titles.year <= 1959)]) #12602"
   ]
  },
  {
   "cell_type": "code",
   "execution_count": null,
   "metadata": {
    "collapsed": true
   },
   "outputs": [],
   "source": []
  },
  {
   "cell_type": "markdown",
   "metadata": {
    "collapsed": true
   },
   "source": [
    "### In what years has a movie titled \"Batman\" been released?"
   ]
  },
  {
   "cell_type": "code",
   "execution_count": 54,
   "metadata": {
    "collapsed": false
   },
   "outputs": [
    {
     "data": {
      "text/plain": [
       "107587    1943\n",
       "201542    1989\n",
       "Name: year, dtype: int64"
      ]
     },
     "execution_count": 54,
     "metadata": {},
     "output_type": "execute_result"
    }
   ],
   "source": [
    "titles[titles.title == 'Batman'].get('year') #1943, 1989"
   ]
  },
  {
   "cell_type": "code",
   "execution_count": null,
   "metadata": {
    "collapsed": true
   },
   "outputs": [],
   "source": []
  },
  {
   "cell_type": "markdown",
   "metadata": {
    "collapsed": true
   },
   "source": [
    "### How many roles were there in the movie \"Inception\"?"
   ]
  },
  {
   "cell_type": "code",
   "execution_count": 58,
   "metadata": {
    "collapsed": false
   },
   "outputs": [
    {
     "data": {
      "text/plain": [
       "77"
      ]
     },
     "execution_count": 58,
     "metadata": {},
     "output_type": "execute_result"
    }
   ],
   "source": [
    "len(cast[cast.title == 'Inception']) #77"
   ]
  },
  {
   "cell_type": "code",
   "execution_count": null,
   "metadata": {
    "collapsed": false
   },
   "outputs": [],
   "source": []
  },
  {
   "cell_type": "markdown",
   "metadata": {
    "collapsed": true
   },
   "source": [
    "### How many roles in the movie \"Inception\" are NOT ranked by an \"n\" value?"
   ]
  },
  {
   "cell_type": "code",
   "execution_count": 163,
   "metadata": {
    "collapsed": false
   },
   "outputs": [
    {
     "data": {
      "text/plain": [
       "26"
      ]
     },
     "execution_count": 163,
     "metadata": {},
     "output_type": "execute_result"
    }
   ],
   "source": [
    "inception_cast = cast[cast.title == 'Inception']\n",
    "#Filter series by roles with n='NaN', ie, a null\n",
    "len(inception_cast[inception_cast.n.isnull()]) #26"
   ]
  },
  {
   "cell_type": "code",
   "execution_count": null,
   "metadata": {
    "collapsed": true
   },
   "outputs": [],
   "source": []
  },
  {
   "cell_type": "markdown",
   "metadata": {
    "collapsed": true
   },
   "source": [
    "### But how many roles in the movie \"Inception\" did receive an \"n\" value?"
   ]
  },
  {
   "cell_type": "code",
   "execution_count": 110,
   "metadata": {
    "collapsed": false
   },
   "outputs": [
    {
     "data": {
      "text/plain": [
       "51"
      ]
     },
     "execution_count": 110,
     "metadata": {},
     "output_type": "execute_result"
    }
   ],
   "source": [
    "#Filter series by roles with a numeric 'n' value.\n",
    "len(inception_cast[inception_cast.n.notnull()]) #51"
   ]
  },
  {
   "cell_type": "code",
   "execution_count": null,
   "metadata": {
    "collapsed": true
   },
   "outputs": [],
   "source": []
  },
  {
   "cell_type": "markdown",
   "metadata": {
    "collapsed": true
   },
   "source": [
    "### Display the cast of \"North by Northwest\" in their correct \"n\"-value order, ignoring roles that did not earn a numeric \"n\" value."
   ]
  },
  {
   "cell_type": "code",
   "execution_count": 112,
   "metadata": {
    "collapsed": false
   },
   "outputs": [],
   "source": [
    "nbnw_cast=cast[cast.title == 'North by Northwest']"
   ]
  },
  {
   "cell_type": "code",
   "execution_count": 116,
   "metadata": {
    "collapsed": false
   },
   "outputs": [
    {
     "data": {
      "text/html": [
       "<div>\n",
       "<table border=\"1\" class=\"dataframe\">\n",
       "  <thead>\n",
       "    <tr style=\"text-align: right;\">\n",
       "      <th></th>\n",
       "      <th>title</th>\n",
       "      <th>year</th>\n",
       "      <th>name</th>\n",
       "      <th>type</th>\n",
       "      <th>character</th>\n",
       "      <th>n</th>\n",
       "    </tr>\n",
       "  </thead>\n",
       "  <tbody>\n",
       "    <tr>\n",
       "      <th>828313</th>\n",
       "      <td>North by Northwest</td>\n",
       "      <td>1959</td>\n",
       "      <td>Cary Grant</td>\n",
       "      <td>actor</td>\n",
       "      <td>Roger O. Thornhill</td>\n",
       "      <td>1.0</td>\n",
       "    </tr>\n",
       "    <tr>\n",
       "      <th>3311904</th>\n",
       "      <td>North by Northwest</td>\n",
       "      <td>1959</td>\n",
       "      <td>Eva Marie Saint</td>\n",
       "      <td>actress</td>\n",
       "      <td>Eve Kendall</td>\n",
       "      <td>2.0</td>\n",
       "    </tr>\n",
       "    <tr>\n",
       "      <th>1384564</th>\n",
       "      <td>North by Northwest</td>\n",
       "      <td>1959</td>\n",
       "      <td>James Mason</td>\n",
       "      <td>actor</td>\n",
       "      <td>Phillip Vandamm</td>\n",
       "      <td>3.0</td>\n",
       "    </tr>\n",
       "    <tr>\n",
       "      <th>2979655</th>\n",
       "      <td>North by Northwest</td>\n",
       "      <td>1959</td>\n",
       "      <td>Jessie Royce Landis</td>\n",
       "      <td>actress</td>\n",
       "      <td>Clara Thornhill</td>\n",
       "      <td>4.0</td>\n",
       "    </tr>\n",
       "    <tr>\n",
       "      <th>338569</th>\n",
       "      <td>North by Northwest</td>\n",
       "      <td>1959</td>\n",
       "      <td>Leo G. Carroll</td>\n",
       "      <td>actor</td>\n",
       "      <td>The Professor</td>\n",
       "      <td>5.0</td>\n",
       "    </tr>\n",
       "    <tr>\n",
       "      <th>2880266</th>\n",
       "      <td>North by Northwest</td>\n",
       "      <td>1959</td>\n",
       "      <td>Josephine Hutchinson</td>\n",
       "      <td>actress</td>\n",
       "      <td>Mrs. Townsend</td>\n",
       "      <td>6.0</td>\n",
       "    </tr>\n",
       "    <tr>\n",
       "      <th>1611237</th>\n",
       "      <td>North by Northwest</td>\n",
       "      <td>1959</td>\n",
       "      <td>Philip Ober</td>\n",
       "      <td>actor</td>\n",
       "      <td>Lester Townsend</td>\n",
       "      <td>7.0</td>\n",
       "    </tr>\n",
       "    <tr>\n",
       "      <th>1211365</th>\n",
       "      <td>North by Northwest</td>\n",
       "      <td>1959</td>\n",
       "      <td>Martin Landau</td>\n",
       "      <td>actor</td>\n",
       "      <td>Leonard</td>\n",
       "      <td>8.0</td>\n",
       "    </tr>\n",
       "    <tr>\n",
       "      <th>2324061</th>\n",
       "      <td>North by Northwest</td>\n",
       "      <td>1959</td>\n",
       "      <td>Adam Williams</td>\n",
       "      <td>actor</td>\n",
       "      <td>Valerian</td>\n",
       "      <td>9.0</td>\n",
       "    </tr>\n",
       "    <tr>\n",
       "      <th>1721393</th>\n",
       "      <td>North by Northwest</td>\n",
       "      <td>1959</td>\n",
       "      <td>Edward Platt</td>\n",
       "      <td>actor</td>\n",
       "      <td>Victor Larrabee</td>\n",
       "      <td>10.0</td>\n",
       "    </tr>\n",
       "    <tr>\n",
       "      <th>632847</th>\n",
       "      <td>North by Northwest</td>\n",
       "      <td>1959</td>\n",
       "      <td>Robert Ellenstein</td>\n",
       "      <td>actor</td>\n",
       "      <td>Licht</td>\n",
       "      <td>11.0</td>\n",
       "    </tr>\n",
       "    <tr>\n",
       "      <th>2180279</th>\n",
       "      <td>North by Northwest</td>\n",
       "      <td>1959</td>\n",
       "      <td>Les Tremayne</td>\n",
       "      <td>actor</td>\n",
       "      <td>Auctioneer</td>\n",
       "      <td>12.0</td>\n",
       "    </tr>\n",
       "    <tr>\n",
       "      <th>441299</th>\n",
       "      <td>North by Northwest</td>\n",
       "      <td>1959</td>\n",
       "      <td>Philip Coolidge</td>\n",
       "      <td>actor</td>\n",
       "      <td>Dr. Cross</td>\n",
       "      <td>13.0</td>\n",
       "    </tr>\n",
       "    <tr>\n",
       "      <th>1433579</th>\n",
       "      <td>North by Northwest</td>\n",
       "      <td>1959</td>\n",
       "      <td>Patrick McVey</td>\n",
       "      <td>actor</td>\n",
       "      <td>Sergeant Flamm</td>\n",
       "      <td>14.0</td>\n",
       "    </tr>\n",
       "    <tr>\n",
       "      <th>195292</th>\n",
       "      <td>North by Northwest</td>\n",
       "      <td>1959</td>\n",
       "      <td>Edward Binns</td>\n",
       "      <td>actor</td>\n",
       "      <td>Captain Junket</td>\n",
       "      <td>15.0</td>\n",
       "    </tr>\n",
       "    <tr>\n",
       "      <th>1315609</th>\n",
       "      <td>North by Northwest</td>\n",
       "      <td>1959</td>\n",
       "      <td>Ken Lynch</td>\n",
       "      <td>actor</td>\n",
       "      <td>Charley - Chicago Policeman</td>\n",
       "      <td>16.0</td>\n",
       "    </tr>\n",
       "  </tbody>\n",
       "</table>\n",
       "</div>"
      ],
      "text/plain": [
       "                      title  year                  name     type  \\\n",
       "828313   North by Northwest  1959            Cary Grant    actor   \n",
       "3311904  North by Northwest  1959       Eva Marie Saint  actress   \n",
       "1384564  North by Northwest  1959           James Mason    actor   \n",
       "2979655  North by Northwest  1959   Jessie Royce Landis  actress   \n",
       "338569   North by Northwest  1959        Leo G. Carroll    actor   \n",
       "2880266  North by Northwest  1959  Josephine Hutchinson  actress   \n",
       "1611237  North by Northwest  1959           Philip Ober    actor   \n",
       "1211365  North by Northwest  1959         Martin Landau    actor   \n",
       "2324061  North by Northwest  1959         Adam Williams    actor   \n",
       "1721393  North by Northwest  1959          Edward Platt    actor   \n",
       "632847   North by Northwest  1959     Robert Ellenstein    actor   \n",
       "2180279  North by Northwest  1959          Les Tremayne    actor   \n",
       "441299   North by Northwest  1959       Philip Coolidge    actor   \n",
       "1433579  North by Northwest  1959         Patrick McVey    actor   \n",
       "195292   North by Northwest  1959          Edward Binns    actor   \n",
       "1315609  North by Northwest  1959             Ken Lynch    actor   \n",
       "\n",
       "                           character     n  \n",
       "828313            Roger O. Thornhill   1.0  \n",
       "3311904                  Eve Kendall   2.0  \n",
       "1384564              Phillip Vandamm   3.0  \n",
       "2979655              Clara Thornhill   4.0  \n",
       "338569                 The Professor   5.0  \n",
       "2880266                Mrs. Townsend   6.0  \n",
       "1611237              Lester Townsend   7.0  \n",
       "1211365                      Leonard   8.0  \n",
       "2324061                     Valerian   9.0  \n",
       "1721393              Victor Larrabee  10.0  \n",
       "632847                         Licht  11.0  \n",
       "2180279                   Auctioneer  12.0  \n",
       "441299                     Dr. Cross  13.0  \n",
       "1433579               Sergeant Flamm  14.0  \n",
       "195292                Captain Junket  15.0  \n",
       "1315609  Charley - Chicago Policeman  16.0  "
      ]
     },
     "execution_count": 116,
     "metadata": {},
     "output_type": "execute_result"
    }
   ],
   "source": [
    "nbnw_cast = nbnw_cast[nbnw_cast.n.notnull()].sort_values('n')\n",
    "nbnw_cast"
   ]
  },
  {
   "cell_type": "markdown",
   "metadata": {
    "collapsed": true
   },
   "source": [
    "### Display the entire cast, in \"n\"-order, of the 1972 film \"Sleuth\"."
   ]
  },
  {
   "cell_type": "code",
   "execution_count": 128,
   "metadata": {
    "collapsed": false
   },
   "outputs": [
    {
     "data": {
      "text/html": [
       "<div>\n",
       "<table border=\"1\" class=\"dataframe\">\n",
       "  <thead>\n",
       "    <tr style=\"text-align: right;\">\n",
       "      <th></th>\n",
       "      <th>title</th>\n",
       "      <th>year</th>\n",
       "      <th>name</th>\n",
       "      <th>type</th>\n",
       "      <th>character</th>\n",
       "      <th>n</th>\n",
       "    </tr>\n",
       "  </thead>\n",
       "  <tbody>\n",
       "    <tr>\n",
       "      <th>1620851</th>\n",
       "      <td>Sleuth</td>\n",
       "      <td>1972</td>\n",
       "      <td>Laurence Olivier</td>\n",
       "      <td>actor</td>\n",
       "      <td>Andrew Wyke</td>\n",
       "      <td>1.0</td>\n",
       "    </tr>\n",
       "    <tr>\n",
       "      <th>309931</th>\n",
       "      <td>Sleuth</td>\n",
       "      <td>1972</td>\n",
       "      <td>Michael Caine</td>\n",
       "      <td>actor</td>\n",
       "      <td>Milo Tindle</td>\n",
       "      <td>2.0</td>\n",
       "    </tr>\n",
       "    <tr>\n",
       "      <th>355001</th>\n",
       "      <td>Sleuth</td>\n",
       "      <td>1972</td>\n",
       "      <td>Alec Cawthorne</td>\n",
       "      <td>actor</td>\n",
       "      <td>Inspector Doppler</td>\n",
       "      <td>3.0</td>\n",
       "    </tr>\n",
       "    <tr>\n",
       "      <th>1392381</th>\n",
       "      <td>Sleuth</td>\n",
       "      <td>1972</td>\n",
       "      <td>John (II) Matthews</td>\n",
       "      <td>actor</td>\n",
       "      <td>Detective Sergeant Tarrant</td>\n",
       "      <td>4.0</td>\n",
       "    </tr>\n",
       "    <tr>\n",
       "      <th>2581312</th>\n",
       "      <td>Sleuth</td>\n",
       "      <td>1972</td>\n",
       "      <td>Eve (III) Channing</td>\n",
       "      <td>actress</td>\n",
       "      <td>Marguerite Wyke</td>\n",
       "      <td>5.0</td>\n",
       "    </tr>\n",
       "    <tr>\n",
       "      <th>1376603</th>\n",
       "      <td>Sleuth</td>\n",
       "      <td>1972</td>\n",
       "      <td>Teddy Martin</td>\n",
       "      <td>actor</td>\n",
       "      <td>Police Constable Higgs</td>\n",
       "      <td>6.0</td>\n",
       "    </tr>\n",
       "  </tbody>\n",
       "</table>\n",
       "</div>"
      ],
      "text/plain": [
       "          title  year                name     type  \\\n",
       "1620851  Sleuth  1972    Laurence Olivier    actor   \n",
       "309931   Sleuth  1972       Michael Caine    actor   \n",
       "355001   Sleuth  1972      Alec Cawthorne    actor   \n",
       "1392381  Sleuth  1972  John (II) Matthews    actor   \n",
       "2581312  Sleuth  1972  Eve (III) Channing  actress   \n",
       "1376603  Sleuth  1972        Teddy Martin    actor   \n",
       "\n",
       "                          character    n  \n",
       "1620851                 Andrew Wyke  1.0  \n",
       "309931                  Milo Tindle  2.0  \n",
       "355001            Inspector Doppler  3.0  \n",
       "1392381  Detective Sergeant Tarrant  4.0  \n",
       "2581312             Marguerite Wyke  5.0  \n",
       "1376603      Police Constable Higgs  6.0  "
      ]
     },
     "execution_count": 128,
     "metadata": {},
     "output_type": "execute_result"
    }
   ],
   "source": [
    "sleuth_cast_1972 = cast[(cast.title == 'Sleuth') & (cast.year == 1972)]\n",
    "sleuth_cast_1972.sort_values('n')"
   ]
  },
  {
   "cell_type": "code",
   "execution_count": null,
   "metadata": {
    "collapsed": true
   },
   "outputs": [],
   "source": []
  },
  {
   "cell_type": "markdown",
   "metadata": {
    "collapsed": true
   },
   "source": [
    "### Now display the entire cast, in \"n\"-order, of the 2007 version of \"Sleuth\"."
   ]
  },
  {
   "cell_type": "code",
   "execution_count": 129,
   "metadata": {
    "collapsed": false
   },
   "outputs": [
    {
     "data": {
      "text/html": [
       "<div>\n",
       "<table border=\"1\" class=\"dataframe\">\n",
       "  <thead>\n",
       "    <tr style=\"text-align: right;\">\n",
       "      <th></th>\n",
       "      <th>title</th>\n",
       "      <th>year</th>\n",
       "      <th>name</th>\n",
       "      <th>type</th>\n",
       "      <th>character</th>\n",
       "      <th>n</th>\n",
       "    </tr>\n",
       "  </thead>\n",
       "  <tbody>\n",
       "    <tr>\n",
       "      <th>309932</th>\n",
       "      <td>Sleuth</td>\n",
       "      <td>2007</td>\n",
       "      <td>Michael Caine</td>\n",
       "      <td>actor</td>\n",
       "      <td>Andrew</td>\n",
       "      <td>1.0</td>\n",
       "    </tr>\n",
       "    <tr>\n",
       "      <th>1228911</th>\n",
       "      <td>Sleuth</td>\n",
       "      <td>2007</td>\n",
       "      <td>Jude Law</td>\n",
       "      <td>actor</td>\n",
       "      <td>Milo</td>\n",
       "      <td>2.0</td>\n",
       "    </tr>\n",
       "    <tr>\n",
       "      <th>1716240</th>\n",
       "      <td>Sleuth</td>\n",
       "      <td>2007</td>\n",
       "      <td>Harold Pinter</td>\n",
       "      <td>actor</td>\n",
       "      <td>Man on T.V.</td>\n",
       "      <td>3.0</td>\n",
       "    </tr>\n",
       "    <tr>\n",
       "      <th>246374</th>\n",
       "      <td>Sleuth</td>\n",
       "      <td>2007</td>\n",
       "      <td>Kenneth Branagh</td>\n",
       "      <td>actor</td>\n",
       "      <td>Other Man on T.V.</td>\n",
       "      <td>NaN</td>\n",
       "    </tr>\n",
       "    <tr>\n",
       "      <th>355002</th>\n",
       "      <td>Sleuth</td>\n",
       "      <td>2007</td>\n",
       "      <td>Alec (II) Cawthorne</td>\n",
       "      <td>actor</td>\n",
       "      <td>Inspector Doppler</td>\n",
       "      <td>NaN</td>\n",
       "    </tr>\n",
       "    <tr>\n",
       "      <th>2581311</th>\n",
       "      <td>Sleuth</td>\n",
       "      <td>2007</td>\n",
       "      <td>Eve (II) Channing</td>\n",
       "      <td>actress</td>\n",
       "      <td>Marguerite Wyke</td>\n",
       "      <td>NaN</td>\n",
       "    </tr>\n",
       "    <tr>\n",
       "      <th>3176194</th>\n",
       "      <td>Sleuth</td>\n",
       "      <td>2007</td>\n",
       "      <td>Carmel O'Sullivan</td>\n",
       "      <td>actress</td>\n",
       "      <td>Maggie</td>\n",
       "      <td>NaN</td>\n",
       "    </tr>\n",
       "  </tbody>\n",
       "</table>\n",
       "</div>"
      ],
      "text/plain": [
       "          title  year                 name     type          character    n\n",
       "309932   Sleuth  2007        Michael Caine    actor             Andrew  1.0\n",
       "1228911  Sleuth  2007             Jude Law    actor               Milo  2.0\n",
       "1716240  Sleuth  2007        Harold Pinter    actor        Man on T.V.  3.0\n",
       "246374   Sleuth  2007      Kenneth Branagh    actor  Other Man on T.V.  NaN\n",
       "355002   Sleuth  2007  Alec (II) Cawthorne    actor  Inspector Doppler  NaN\n",
       "2581311  Sleuth  2007    Eve (II) Channing  actress    Marguerite Wyke  NaN\n",
       "3176194  Sleuth  2007    Carmel O'Sullivan  actress             Maggie  NaN"
      ]
     },
     "execution_count": 129,
     "metadata": {},
     "output_type": "execute_result"
    }
   ],
   "source": [
    "sleuth_cast_2007 = cast[(cast.title == 'Sleuth') & (cast.year == 2007)]\n",
    "sleuth_cast_2007.sort_values('n')"
   ]
  },
  {
   "cell_type": "code",
   "execution_count": null,
   "metadata": {
    "collapsed": true
   },
   "outputs": [],
   "source": []
  },
  {
   "cell_type": "markdown",
   "metadata": {
    "collapsed": true
   },
   "source": [
    "### How many roles were credited in the silent 1921 version of Hamlet?"
   ]
  },
  {
   "cell_type": "code",
   "execution_count": 135,
   "metadata": {
    "collapsed": false
   },
   "outputs": [
    {
     "data": {
      "text/plain": [
       "9"
      ]
     },
     "execution_count": 135,
     "metadata": {},
     "output_type": "execute_result"
    }
   ],
   "source": [
    "hamlet_cast_1921 = cast[(cast.title == 'Hamlet') & (cast.year == 1921)]\n",
    "len(hamlet_cast_1921[hamlet_cast_1921.n.notnull()]) #9"
   ]
  },
  {
   "cell_type": "code",
   "execution_count": null,
   "metadata": {
    "collapsed": true
   },
   "outputs": [],
   "source": []
  },
  {
   "cell_type": "markdown",
   "metadata": {
    "collapsed": true
   },
   "source": [
    "### How many roles were credited in Branagh’s 1996 Hamlet?"
   ]
  },
  {
   "cell_type": "code",
   "execution_count": 139,
   "metadata": {
    "collapsed": false
   },
   "outputs": [
    {
     "data": {
      "text/plain": [
       "46"
      ]
     },
     "execution_count": 139,
     "metadata": {},
     "output_type": "execute_result"
    }
   ],
   "source": [
    "hamlet_cast_1996 = cast[(cast.title == 'Hamlet') & (cast.year == 1996)]\n",
    "len(hamlet_cast_1996[hamlet_cast_1996.n.notnull()]) #46"
   ]
  },
  {
   "cell_type": "code",
   "execution_count": null,
   "metadata": {
    "collapsed": true
   },
   "outputs": [],
   "source": []
  },
  {
   "cell_type": "markdown",
   "metadata": {
    "collapsed": true
   },
   "source": [
    "### How many \"Hamlet\" roles have been listed in all film credits through history?"
   ]
  },
  {
   "cell_type": "code",
   "execution_count": null,
   "metadata": {
    "collapsed": false
   },
   "outputs": [],
   "source": [
    "hamlet_roles = cast[(cast.character == 'Hamlet') and (cast.n.notnull()].sort_values('year')\n",
    "len(hamlet_roles) #89"
   ]
  },
  {
   "cell_type": "code",
   "execution_count": null,
   "metadata": {
    "collapsed": true
   },
   "outputs": [],
   "source": []
  },
  {
   "cell_type": "markdown",
   "metadata": {
    "collapsed": true
   },
   "source": [
    "### How many people have played an \"Ophelia\"?"
   ]
  },
  {
   "cell_type": "code",
   "execution_count": 178,
   "metadata": {
    "collapsed": false
   },
   "outputs": [
    {
     "name": "stdout",
     "output_type": "stream",
     "text": [
      "105\n"
     ]
    }
   ],
   "source": [
    "ophelia_roles = cast[cast.character == 'Ophelia']\n",
    "ophelia_roles\n",
    "ophelia_actors = []\n",
    "for name in ophelia_roles.name:\n",
    "    if name not in ophelia_actors:\n",
    "        ophelia_actors.append(name)\n",
    "print(len(ophelia_actors)) #105"
   ]
  },
  {
   "cell_type": "code",
   "execution_count": null,
   "metadata": {
    "collapsed": true
   },
   "outputs": [],
   "source": []
  },
  {
   "cell_type": "markdown",
   "metadata": {
    "collapsed": true
   },
   "source": [
    "### How many people have played a role called \"The Dude\"?"
   ]
  },
  {
   "cell_type": "code",
   "execution_count": 160,
   "metadata": {
    "collapsed": false
   },
   "outputs": [
    {
     "data": {
      "text/plain": [
       "17"
      ]
     },
     "execution_count": 160,
     "metadata": {},
     "output_type": "execute_result"
    }
   ],
   "source": [
    "the_dude_roles = cast[cast.character == 'The Dude']\n",
    "len(the_dude_roles) #17"
   ]
  },
  {
   "cell_type": "code",
   "execution_count": null,
   "metadata": {
    "collapsed": true
   },
   "outputs": [],
   "source": []
  },
  {
   "cell_type": "markdown",
   "metadata": {
    "collapsed": true
   },
   "source": [
    "### How many people have played a role called \"The Stranger\"?"
   ]
  },
  {
   "cell_type": "code",
   "execution_count": 172,
   "metadata": {
    "collapsed": false
   },
   "outputs": [
    {
     "data": {
      "text/plain": [
       "198"
      ]
     },
     "execution_count": 172,
     "metadata": {},
     "output_type": "execute_result"
    }
   ],
   "source": [
    "the_stranger_roles = cast[cast.character == 'The Stranger']\n",
    "num_strangers = []\n",
    "for name in the_stranger_roles.name:\n",
    "    if name not in num_strangers:\n",
    "        num_strangers.append(name)\n",
    "len(num_strangers) #198"
   ]
  },
  {
   "cell_type": "code",
   "execution_count": null,
   "metadata": {
    "collapsed": true
   },
   "outputs": [],
   "source": []
  },
  {
   "cell_type": "markdown",
   "metadata": {
    "collapsed": true
   },
   "source": [
    "### How many roles has Sidney Poitier played throughout his career?"
   ]
  },
  {
   "cell_type": "code",
   "execution_count": 174,
   "metadata": {
    "collapsed": false
   },
   "outputs": [
    {
     "data": {
      "text/plain": [
       "43"
      ]
     },
     "execution_count": 174,
     "metadata": {},
     "output_type": "execute_result"
    }
   ],
   "source": [
    "sidney_poitier_roles = cast[cast.name == 'Sidney Poitier']\n",
    "len(sidney_poitier_roles) #43--While he plays Mr. Tibbs twice, they are not technically the same character within the \n",
    "                          # two films."
   ]
  },
  {
   "cell_type": "code",
   "execution_count": null,
   "metadata": {
    "collapsed": true
   },
   "outputs": [],
   "source": []
  },
  {
   "cell_type": "markdown",
   "metadata": {
    "collapsed": true
   },
   "source": [
    "### How many roles has Judi Dench played?"
   ]
  },
  {
   "cell_type": "code",
   "execution_count": 23,
   "metadata": {
    "collapsed": false
   },
   "outputs": [
    {
     "name": "stdout",
     "output_type": "stream",
     "text": [
      "45\n"
     ]
    }
   ],
   "source": [
    "dench_roles = cast[cast.name == 'Judi Dench']\n",
    "num_roles = []\n",
    "for role in dench_roles['character']:\n",
    "    if role not in num_roles:\n",
    "        num_roles.append(role)\n",
    "print(len(num_roles)) #45"
   ]
  },
  {
   "cell_type": "code",
   "execution_count": null,
   "metadata": {
    "collapsed": true
   },
   "outputs": [],
   "source": []
  },
  {
   "cell_type": "markdown",
   "metadata": {
    "collapsed": true
   },
   "source": [
    "### List the supporting roles (having n=2) played by Cary Grant in the 1940s, in order by year."
   ]
  },
  {
   "cell_type": "code",
   "execution_count": 34,
   "metadata": {
    "collapsed": false
   },
   "outputs": [
    {
     "data": {
      "text/html": [
       "<div>\n",
       "<table border=\"1\" class=\"dataframe\">\n",
       "  <thead>\n",
       "    <tr style=\"text-align: right;\">\n",
       "      <th></th>\n",
       "      <th>year</th>\n",
       "      <th>character</th>\n",
       "    </tr>\n",
       "  </thead>\n",
       "  <tbody>\n",
       "    <tr>\n",
       "      <th>828310</th>\n",
       "      <td>1940</td>\n",
       "      <td>Nick</td>\n",
       "    </tr>\n",
       "    <tr>\n",
       "      <th>828320</th>\n",
       "      <td>1941</td>\n",
       "      <td>Roger Adams</td>\n",
       "    </tr>\n",
       "  </tbody>\n",
       "</table>\n",
       "</div>"
      ],
      "text/plain": [
       "        year    character\n",
       "828310  1940         Nick\n",
       "828320  1941  Roger Adams"
      ]
     },
     "execution_count": 34,
     "metadata": {},
     "output_type": "execute_result"
    }
   ],
   "source": [
    "grant_roles = cast[(cast.name == 'Cary Grant') & (cast.year <= 1949) & (cast.year >= 1940) & (cast.n == 2)].sort_values('year')\n",
    "grant_roles[['year', 'character']]"
   ]
  },
  {
   "cell_type": "code",
   "execution_count": null,
   "metadata": {
    "collapsed": true
   },
   "outputs": [],
   "source": []
  },
  {
   "cell_type": "markdown",
   "metadata": {
    "collapsed": true
   },
   "source": [
    "### List the leading roles that Cary Grant played in the 1940s in order by year."
   ]
  },
  {
   "cell_type": "code",
   "execution_count": 35,
   "metadata": {
    "collapsed": false
   },
   "outputs": [
    {
     "data": {
      "text/html": [
       "<div>\n",
       "<table border=\"1\" class=\"dataframe\">\n",
       "  <thead>\n",
       "    <tr style=\"text-align: right;\">\n",
       "      <th></th>\n",
       "      <th>year</th>\n",
       "      <th>character</th>\n",
       "    </tr>\n",
       "  </thead>\n",
       "  <tbody>\n",
       "    <tr>\n",
       "      <th>828335</th>\n",
       "      <td>1940</td>\n",
       "      <td>Matt Howard</td>\n",
       "    </tr>\n",
       "    <tr>\n",
       "      <th>828292</th>\n",
       "      <td>1940</td>\n",
       "      <td>Walter Burns</td>\n",
       "    </tr>\n",
       "    <tr>\n",
       "      <th>828337</th>\n",
       "      <td>1940</td>\n",
       "      <td>C. K. Dexter Haven</td>\n",
       "    </tr>\n",
       "    <tr>\n",
       "      <th>828325</th>\n",
       "      <td>1941</td>\n",
       "      <td>Johnnie</td>\n",
       "    </tr>\n",
       "    <tr>\n",
       "      <th>828339</th>\n",
       "      <td>1942</td>\n",
       "      <td>Leopold Dilg</td>\n",
       "    </tr>\n",
       "    <tr>\n",
       "      <th>828316</th>\n",
       "      <td>1942</td>\n",
       "      <td>Patrick 'Pat' O'Toole</td>\n",
       "    </tr>\n",
       "    <tr>\n",
       "      <th>828283</th>\n",
       "      <td>1943</td>\n",
       "      <td>Capt. Cassidy</td>\n",
       "    </tr>\n",
       "    <tr>\n",
       "      <th>828308</th>\n",
       "      <td>1943</td>\n",
       "      <td>Joe Adams</td>\n",
       "    </tr>\n",
       "    <tr>\n",
       "      <th>828309</th>\n",
       "      <td>1943</td>\n",
       "      <td>Joe Bascopolous</td>\n",
       "    </tr>\n",
       "    <tr>\n",
       "      <th>828317</th>\n",
       "      <td>1944</td>\n",
       "      <td>Jerry Flynn</td>\n",
       "    </tr>\n",
       "    <tr>\n",
       "      <th>828275</th>\n",
       "      <td>1944</td>\n",
       "      <td>Mortimer Brewster</td>\n",
       "    </tr>\n",
       "    <tr>\n",
       "      <th>828312</th>\n",
       "      <td>1944</td>\n",
       "      <td>Ernie Mott</td>\n",
       "    </tr>\n",
       "    <tr>\n",
       "      <th>828311</th>\n",
       "      <td>1946</td>\n",
       "      <td>Cole Porter</td>\n",
       "    </tr>\n",
       "    <tr>\n",
       "      <th>828314</th>\n",
       "      <td>1946</td>\n",
       "      <td>Devlin</td>\n",
       "    </tr>\n",
       "    <tr>\n",
       "      <th>828331</th>\n",
       "      <td>1947</td>\n",
       "      <td>Dick Nugent</td>\n",
       "    </tr>\n",
       "    <tr>\n",
       "      <th>828332</th>\n",
       "      <td>1947</td>\n",
       "      <td>Dudley</td>\n",
       "    </tr>\n",
       "    <tr>\n",
       "      <th>828307</th>\n",
       "      <td>1948</td>\n",
       "      <td>Jim Blandings</td>\n",
       "    </tr>\n",
       "    <tr>\n",
       "      <th>828287</th>\n",
       "      <td>1948</td>\n",
       "      <td>Dr. Madison Brown</td>\n",
       "    </tr>\n",
       "    <tr>\n",
       "      <th>828296</th>\n",
       "      <td>1949</td>\n",
       "      <td>Capt. Henri Rochard</td>\n",
       "    </tr>\n",
       "  </tbody>\n",
       "</table>\n",
       "</div>"
      ],
      "text/plain": [
       "        year              character\n",
       "828335  1940            Matt Howard\n",
       "828292  1940           Walter Burns\n",
       "828337  1940     C. K. Dexter Haven\n",
       "828325  1941                Johnnie\n",
       "828339  1942           Leopold Dilg\n",
       "828316  1942  Patrick 'Pat' O'Toole\n",
       "828283  1943          Capt. Cassidy\n",
       "828308  1943              Joe Adams\n",
       "828309  1943        Joe Bascopolous\n",
       "828317  1944            Jerry Flynn\n",
       "828275  1944      Mortimer Brewster\n",
       "828312  1944             Ernie Mott\n",
       "828311  1946            Cole Porter\n",
       "828314  1946                 Devlin\n",
       "828331  1947            Dick Nugent\n",
       "828332  1947                 Dudley\n",
       "828307  1948          Jim Blandings\n",
       "828287  1948      Dr. Madison Brown\n",
       "828296  1949    Capt. Henri Rochard"
      ]
     },
     "execution_count": 35,
     "metadata": {},
     "output_type": "execute_result"
    }
   ],
   "source": [
    "grant_roles = cast[(cast.name == 'Cary Grant') & (cast.year <= 1949) & (cast.year >= 1940) & (cast.n == 1)].sort_values('year')\n",
    "grant_roles[['year', 'character']]"
   ]
  },
  {
   "cell_type": "code",
   "execution_count": null,
   "metadata": {
    "collapsed": true
   },
   "outputs": [],
   "source": []
  },
  {
   "cell_type": "markdown",
   "metadata": {
    "collapsed": true
   },
   "source": [
    "### How many roles were available for actors in the 1950s?"
   ]
  },
  {
   "cell_type": "code",
   "execution_count": 39,
   "metadata": {
    "collapsed": false
   },
   "outputs": [
    {
     "data": {
      "text/html": [
       "<div>\n",
       "<table border=\"1\" class=\"dataframe\">\n",
       "  <thead>\n",
       "    <tr style=\"text-align: right;\">\n",
       "      <th></th>\n",
       "      <th>character</th>\n",
       "    </tr>\n",
       "  </thead>\n",
       "  <tbody>\n",
       "    <tr>\n",
       "      <th>62</th>\n",
       "      <td>Limbo Dance by</td>\n",
       "    </tr>\n",
       "    <tr>\n",
       "      <th>64</th>\n",
       "      <td>Dirk Jan</td>\n",
       "    </tr>\n",
       "    <tr>\n",
       "      <th>115</th>\n",
       "      <td>Themselves</td>\n",
       "    </tr>\n",
       "    <tr>\n",
       "      <th>256</th>\n",
       "      <td>Kampanna Dora</td>\n",
       "    </tr>\n",
       "    <tr>\n",
       "      <th>257</th>\n",
       "      <td>Basavareddy</td>\n",
       "    </tr>\n",
       "    <tr>\n",
       "      <th>270</th>\n",
       "      <td>H?yland jr.</td>\n",
       "    </tr>\n",
       "    <tr>\n",
       "      <th>276</th>\n",
       "      <td>Uncle Alfred</td>\n",
       "    </tr>\n",
       "    <tr>\n",
       "      <th>341</th>\n",
       "      <td>Joe</td>\n",
       "    </tr>\n",
       "    <tr>\n",
       "      <th>342</th>\n",
       "      <td>Bit Role</td>\n",
       "    </tr>\n",
       "    <tr>\n",
       "      <th>343</th>\n",
       "      <td>Russel the Muscle</td>\n",
       "    </tr>\n",
       "    <tr>\n",
       "      <th>344</th>\n",
       "      <td>3rd Baseman</td>\n",
       "    </tr>\n",
       "    <tr>\n",
       "      <th>346</th>\n",
       "      <td>Johnny Briscoe</td>\n",
       "    </tr>\n",
       "    <tr>\n",
       "      <th>347</th>\n",
       "      <td>Teddy Hutchins</td>\n",
       "    </tr>\n",
       "    <tr>\n",
       "      <th>348</th>\n",
       "      <td>Little Boy</td>\n",
       "    </tr>\n",
       "    <tr>\n",
       "      <th>350</th>\n",
       "      <td>Don Heldon</td>\n",
       "    </tr>\n",
       "    <tr>\n",
       "      <th>351</th>\n",
       "      <td>Eli Skinner</td>\n",
       "    </tr>\n",
       "    <tr>\n",
       "      <th>352</th>\n",
       "      <td>Little Boy</td>\n",
       "    </tr>\n",
       "    <tr>\n",
       "      <th>353</th>\n",
       "      <td>Michael Elliott</td>\n",
       "    </tr>\n",
       "    <tr>\n",
       "      <th>354</th>\n",
       "      <td>Boy</td>\n",
       "    </tr>\n",
       "    <tr>\n",
       "      <th>355</th>\n",
       "      <td>Johnny Lowe</td>\n",
       "    </tr>\n",
       "    <tr>\n",
       "      <th>356</th>\n",
       "      <td>Bobby Stilwin</td>\n",
       "    </tr>\n",
       "    <tr>\n",
       "      <th>357</th>\n",
       "      <td>Arthur</td>\n",
       "    </tr>\n",
       "    <tr>\n",
       "      <th>358</th>\n",
       "      <td>Boy</td>\n",
       "    </tr>\n",
       "    <tr>\n",
       "      <th>359</th>\n",
       "      <td>Donovan</td>\n",
       "    </tr>\n",
       "    <tr>\n",
       "      <th>360</th>\n",
       "      <td>J.B. Dorset aka Red Chief (segment \"The Ransom...</td>\n",
       "    </tr>\n",
       "    <tr>\n",
       "      <th>361</th>\n",
       "      <td>Timmy Williams</td>\n",
       "    </tr>\n",
       "    <tr>\n",
       "      <th>362</th>\n",
       "      <td>Boy</td>\n",
       "    </tr>\n",
       "    <tr>\n",
       "      <th>363</th>\n",
       "      <td>Alternate Boy</td>\n",
       "    </tr>\n",
       "    <tr>\n",
       "      <th>364</th>\n",
       "      <td>Corney Hall</td>\n",
       "    </tr>\n",
       "    <tr>\n",
       "      <th>365</th>\n",
       "      <td>Tommy Addison</td>\n",
       "    </tr>\n",
       "    <tr>\n",
       "      <th>...</th>\n",
       "      <td>...</td>\n",
       "    </tr>\n",
       "    <tr>\n",
       "      <th>2403782</th>\n",
       "      <td>Kita</td>\n",
       "    </tr>\n",
       "    <tr>\n",
       "      <th>2403808</th>\n",
       "      <td>Kral Abdullah</td>\n",
       "    </tr>\n",
       "    <tr>\n",
       "      <th>2403809</th>\n",
       "      <td>Usak</td>\n",
       "    </tr>\n",
       "    <tr>\n",
       "      <th>2403982</th>\n",
       "      <td>Cook</td>\n",
       "    </tr>\n",
       "    <tr>\n",
       "      <th>2403984</th>\n",
       "      <td>Himself - F?rsvarsadvokaten</td>\n",
       "    </tr>\n",
       "    <tr>\n",
       "      <th>2404017</th>\n",
       "      <td>Viking</td>\n",
       "    </tr>\n",
       "    <tr>\n",
       "      <th>2404018</th>\n",
       "      <td>Speculative Buyer</td>\n",
       "    </tr>\n",
       "    <tr>\n",
       "      <th>2404019</th>\n",
       "      <td>Ticket Collector</td>\n",
       "    </tr>\n",
       "    <tr>\n",
       "      <th>2404021</th>\n",
       "      <td>Viktor Ekberg</td>\n",
       "    </tr>\n",
       "    <tr>\n",
       "      <th>2404023</th>\n",
       "      <td>Jazzgosse</td>\n",
       "    </tr>\n",
       "    <tr>\n",
       "      <th>2404024</th>\n",
       "      <td>Salesman</td>\n",
       "    </tr>\n",
       "    <tr>\n",
       "      <th>2404025</th>\n",
       "      <td>Andersson</td>\n",
       "    </tr>\n",
       "    <tr>\n",
       "      <th>2404026</th>\n",
       "      <td>Gentleman whose car is stolen</td>\n",
       "    </tr>\n",
       "    <tr>\n",
       "      <th>2404027</th>\n",
       "      <td>Manager Nessing</td>\n",
       "    </tr>\n",
       "    <tr>\n",
       "      <th>2404030</th>\n",
       "      <td>Skakis</td>\n",
       "    </tr>\n",
       "    <tr>\n",
       "      <th>2404031</th>\n",
       "      <td>Svensson, court janitor</td>\n",
       "    </tr>\n",
       "    <tr>\n",
       "      <th>2404073</th>\n",
       "      <td>Kahya</td>\n",
       "    </tr>\n",
       "    <tr>\n",
       "      <th>2404096</th>\n",
       "      <td>Idris</td>\n",
       "    </tr>\n",
       "    <tr>\n",
       "      <th>2404119</th>\n",
       "      <td>Riza</td>\n",
       "    </tr>\n",
       "    <tr>\n",
       "      <th>2404139</th>\n",
       "      <td>Muzaffer</td>\n",
       "    </tr>\n",
       "    <tr>\n",
       "      <th>2404140</th>\n",
       "      <td>Ali</td>\n",
       "    </tr>\n",
       "    <tr>\n",
       "      <th>2404282</th>\n",
       "      <td>Nevzat</td>\n",
       "    </tr>\n",
       "    <tr>\n",
       "      <th>2404320</th>\n",
       "      <td>Y?zbasi Avni</td>\n",
       "    </tr>\n",
       "    <tr>\n",
       "      <th>2404377</th>\n",
       "      <td>Mimar Selim</td>\n",
       "    </tr>\n",
       "    <tr>\n",
       "      <th>2404394</th>\n",
       "      <td>M?nir</td>\n",
       "    </tr>\n",
       "    <tr>\n",
       "      <th>2404638</th>\n",
       "      <td>Asbj?rn, sauegjeter</td>\n",
       "    </tr>\n",
       "    <tr>\n",
       "      <th>2404646</th>\n",
       "      <td>Pelotari</td>\n",
       "    </tr>\n",
       "    <tr>\n",
       "      <th>2404708</th>\n",
       "      <td>Mehmet</td>\n",
       "    </tr>\n",
       "    <tr>\n",
       "      <th>2404816</th>\n",
       "      <td>Levend</td>\n",
       "    </tr>\n",
       "    <tr>\n",
       "      <th>2404817</th>\n",
       "      <td>Kara Efe</td>\n",
       "    </tr>\n",
       "  </tbody>\n",
       "</table>\n",
       "<p>153936 rows × 1 columns</p>\n",
       "</div>"
      ],
      "text/plain": [
       "                                                 character\n",
       "62                                          Limbo Dance by\n",
       "64                                                Dirk Jan\n",
       "115                                             Themselves\n",
       "256                                          Kampanna Dora\n",
       "257                                            Basavareddy\n",
       "270                                            H?yland jr.\n",
       "276                                           Uncle Alfred\n",
       "341                                                    Joe\n",
       "342                                               Bit Role\n",
       "343                                      Russel the Muscle\n",
       "344                                            3rd Baseman\n",
       "346                                         Johnny Briscoe\n",
       "347                                         Teddy Hutchins\n",
       "348                                             Little Boy\n",
       "350                                             Don Heldon\n",
       "351                                            Eli Skinner\n",
       "352                                             Little Boy\n",
       "353                                        Michael Elliott\n",
       "354                                                    Boy\n",
       "355                                            Johnny Lowe\n",
       "356                                          Bobby Stilwin\n",
       "357                                                 Arthur\n",
       "358                                                    Boy\n",
       "359                                                Donovan\n",
       "360      J.B. Dorset aka Red Chief (segment \"The Ransom...\n",
       "361                                         Timmy Williams\n",
       "362                                                    Boy\n",
       "363                                          Alternate Boy\n",
       "364                                            Corney Hall\n",
       "365                                          Tommy Addison\n",
       "...                                                    ...\n",
       "2403782                                               Kita\n",
       "2403808                                      Kral Abdullah\n",
       "2403809                                               Usak\n",
       "2403982                                               Cook\n",
       "2403984                        Himself - F?rsvarsadvokaten\n",
       "2404017                                             Viking\n",
       "2404018                                  Speculative Buyer\n",
       "2404019                                   Ticket Collector\n",
       "2404021                                      Viktor Ekberg\n",
       "2404023                                          Jazzgosse\n",
       "2404024                                           Salesman\n",
       "2404025                                          Andersson\n",
       "2404026                      Gentleman whose car is stolen\n",
       "2404027                                    Manager Nessing\n",
       "2404030                                             Skakis\n",
       "2404031                            Svensson, court janitor\n",
       "2404073                                              Kahya\n",
       "2404096                                              Idris\n",
       "2404119                                               Riza\n",
       "2404139                                           Muzaffer\n",
       "2404140                                                Ali\n",
       "2404282                                             Nevzat\n",
       "2404320                                       Y?zbasi Avni\n",
       "2404377                                        Mimar Selim\n",
       "2404394                                              M?nir\n",
       "2404638                                Asbj?rn, sauegjeter\n",
       "2404646                                           Pelotari\n",
       "2404708                                             Mehmet\n",
       "2404816                                             Levend\n",
       "2404817                                           Kara Efe\n",
       "\n",
       "[153936 rows x 1 columns]"
      ]
     },
     "execution_count": 39,
     "metadata": {},
     "output_type": "execute_result"
    }
   ],
   "source": [
    "actor_roles = cast[(cast.type == 'actor') & (cast.year >= 1950) & (cast.year <= 1959)]\n",
    "actor_roles[['character']]"
   ]
  },
  {
   "cell_type": "code",
   "execution_count": null,
   "metadata": {
    "collapsed": true
   },
   "outputs": [],
   "source": []
  },
  {
   "cell_type": "markdown",
   "metadata": {
    "collapsed": true
   },
   "source": [
    "### How many roles were avilable for actresses in the 1950s?"
   ]
  },
  {
   "cell_type": "code",
   "execution_count": 46,
   "metadata": {
    "collapsed": false
   },
   "outputs": [
    {
     "name": "stdout",
     "output_type": "stream",
     "text": [
      "35273\n",
      "54521\n",
      "50340\n"
     ]
    }
   ],
   "source": [
    "actress_roles = cast[(cast.type == 'actress') & (cast.year >= 1950) & (cast.year <= 1959)]\n",
    "#Depends on what you mean by 'how many'...\n",
    "#If I only consider roles of different character names, regardless of if they are in a different film\n",
    "print(len(actress_roles[['character']].drop_duplicates())) #35273\n",
    "#But if I only consider all roles where the same person doesn't play the same character name in another movie\n",
    "print(len(actress_roles[[ 'name', 'character']].drop_duplicates())) #54521\n",
    "#Or, I could drop all roles where the character and title name were the same\n",
    "print(len(actress_roles[['title', 'character']].drop_duplicates())) #50340\n",
    "#There are more ways I could interpret this question..."
   ]
  },
  {
   "cell_type": "code",
   "execution_count": null,
   "metadata": {
    "collapsed": true
   },
   "outputs": [],
   "source": []
  },
  {
   "cell_type": "markdown",
   "metadata": {
    "collapsed": true
   },
   "source": [
    "### How many leading roles (n=1) were available from the beginning of film history through 1980?"
   ]
  },
  {
   "cell_type": "code",
   "execution_count": 50,
   "metadata": {
    "collapsed": false
   },
   "outputs": [
    {
     "name": "stdout",
     "output_type": "stream",
     "text": [
      "50883\n",
      "63013\n",
      "63537\n"
     ]
    }
   ],
   "source": [
    "leading_roles = cast[(cast.year <= 1980) & (cast.n == 1)]\n",
    "#Again, this question is ambiguous: how do we define a duplicate?\n",
    "#If it's the same role, regardless of if the film is different or the same but a reboot, then\n",
    "print(len(leading_roles[['character']].drop_duplicates())) #50883\n",
    "#If it's the same role, but we only consider films of the same name, then\n",
    "print(len(leading_roles[['title','character']].drop_duplicates())) #63013\n",
    "#Finally, if we consider all roles to be different, regardless of identical name or in a film reboot\n",
    "print(len(leading_roles[['character']])) #63537"
   ]
  },
  {
   "cell_type": "code",
   "execution_count": null,
   "metadata": {
    "collapsed": true
   },
   "outputs": [],
   "source": []
  },
  {
   "cell_type": "markdown",
   "metadata": {
    "collapsed": true
   },
   "source": [
    "### How many non-leading roles were available through from the beginning of film history through 1980?"
   ]
  },
  {
   "cell_type": "code",
   "execution_count": 51,
   "metadata": {
    "collapsed": false
   },
   "outputs": [
    {
     "name": "stdout",
     "output_type": "stream",
     "text": [
      "959607\n"
     ]
    }
   ],
   "source": [
    "nonleading_roles = cast[(cast.year <= 1980) & (cast.n != 1)]\n",
    "#For this one, I'll just assume that roles of the same name from the same named films are duplicates, and I consider\n",
    "#un-ranked roles in here as well.\n",
    "print(len(nonleading_roles[['title','character']].drop_duplicates())) #959607"
   ]
  },
  {
   "cell_type": "code",
   "execution_count": null,
   "metadata": {
    "collapsed": true
   },
   "outputs": [],
   "source": []
  },
  {
   "cell_type": "markdown",
   "metadata": {
    "collapsed": true
   },
   "source": [
    "### How many roles through 1980 were minor enough that they did not warrant a numeric \"n\" rank?"
   ]
  },
  {
   "cell_type": "code",
   "execution_count": 52,
   "metadata": {
    "collapsed": false
   },
   "outputs": [
    {
     "name": "stdout",
     "output_type": "stream",
     "text": [
      "184593\n"
     ]
    }
   ],
   "source": [
    "nonleading_roles = cast[(cast.year <= 1980) & cast.n.isnull()]\n",
    "#I'll do the same with duplicates in this one as with the previous one.\n",
    "print(len(nonleading_roles[['character']].drop_duplicates())) #184593"
   ]
  },
  {
   "cell_type": "code",
   "execution_count": null,
   "metadata": {
    "collapsed": true
   },
   "outputs": [],
   "source": []
  }
 ],
 "metadata": {
  "kernelspec": {
   "display_name": "Python 3",
   "language": "python",
   "name": "python3"
  },
  "language_info": {
   "codemirror_mode": {
    "name": "ipython",
    "version": 3
   },
   "file_extension": ".py",
   "mimetype": "text/x-python",
   "name": "python",
   "nbconvert_exporter": "python",
   "pygments_lexer": "ipython3",
   "version": "3.5.1"
  }
 },
 "nbformat": 4,
 "nbformat_minor": 0
}
